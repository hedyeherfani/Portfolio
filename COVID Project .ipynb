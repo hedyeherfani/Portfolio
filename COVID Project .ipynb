{
 "cells": [
  {
   "cell_type": "code",
   "execution_count": 1,
   "metadata": {},
   "outputs": [],
   "source": [
    "#importing packages\n",
    "import pandas as pd\n",
    "import matplotlib.pyplot as plt\n",
    "%matplotlib inline"
   ]
  },
  {
   "cell_type": "code",
   "execution_count": 2,
   "metadata": {},
   "outputs": [],
   "source": [
    "#reading excel into data frame\n",
    "data=pd.read_excel('racecovid.xlsx')"
   ]
  },
  {
   "cell_type": "code",
   "execution_count": 3,
   "metadata": {},
   "outputs": [
    {
     "data": {
      "text/html": [
       "<div>\n",
       "<style scoped>\n",
       "    .dataframe tbody tr th:only-of-type {\n",
       "        vertical-align: middle;\n",
       "    }\n",
       "\n",
       "    .dataframe tbody tr th {\n",
       "        vertical-align: top;\n",
       "    }\n",
       "\n",
       "    .dataframe thead th {\n",
       "        text-align: right;\n",
       "    }\n",
       "</style>\n",
       "<table border=\"1\" class=\"dataframe\">\n",
       "  <thead>\n",
       "    <tr style=\"text-align: right;\">\n",
       "      <th></th>\n",
       "      <th>State</th>\n",
       "      <th>Race</th>\n",
       "      <th># of Cases</th>\n",
       "      <th>% of Population</th>\n",
       "      <th>% of Cases</th>\n",
       "      <th>% of Deaths</th>\n",
       "      <th>Poverty %</th>\n",
       "      <th>Cases/Pop</th>\n",
       "      <th>Cases-Over33%</th>\n",
       "      <th>Death/Pop</th>\n",
       "      <th>Deaths-Over33%</th>\n",
       "    </tr>\n",
       "  </thead>\n",
       "  <tbody>\n",
       "    <tr>\n",
       "      <th>0</th>\n",
       "      <td>Alabama</td>\n",
       "      <td>Black</td>\n",
       "      <td>35458.0</td>\n",
       "      <td>27.0</td>\n",
       "      <td>35.0</td>\n",
       "      <td>40.0</td>\n",
       "      <td>28.4</td>\n",
       "      <td>1.296296</td>\n",
       "      <td>N</td>\n",
       "      <td>1.481481</td>\n",
       "      <td>Y</td>\n",
       "    </tr>\n",
       "    <tr>\n",
       "      <th>1</th>\n",
       "      <td>Alabama</td>\n",
       "      <td>Asian</td>\n",
       "      <td>576.0</td>\n",
       "      <td>1.0</td>\n",
       "      <td>1.0</td>\n",
       "      <td>1.0</td>\n",
       "      <td>12.9</td>\n",
       "      <td>1.000000</td>\n",
       "      <td>N</td>\n",
       "      <td>1.000000</td>\n",
       "      <td>N</td>\n",
       "    </tr>\n",
       "    <tr>\n",
       "      <th>2</th>\n",
       "      <td>Alabama</td>\n",
       "      <td>White</td>\n",
       "      <td>55718.0</td>\n",
       "      <td>68.0</td>\n",
       "      <td>51.0</td>\n",
       "      <td>57.0</td>\n",
       "      <td>12.8</td>\n",
       "      <td>0.750000</td>\n",
       "      <td>N</td>\n",
       "      <td>0.838235</td>\n",
       "      <td>N</td>\n",
       "    </tr>\n",
       "    <tr>\n",
       "      <th>3</th>\n",
       "      <td>Alabama</td>\n",
       "      <td>Hispanic</td>\n",
       "      <td>NaN</td>\n",
       "      <td>4.0</td>\n",
       "      <td>10.0</td>\n",
       "      <td>3.0</td>\n",
       "      <td>32.2</td>\n",
       "      <td>2.500000</td>\n",
       "      <td>Y</td>\n",
       "      <td>0.750000</td>\n",
       "      <td>N</td>\n",
       "    </tr>\n",
       "    <tr>\n",
       "      <th>4</th>\n",
       "      <td>Alaska</td>\n",
       "      <td>Black</td>\n",
       "      <td>469.0</td>\n",
       "      <td>3.0</td>\n",
       "      <td>6.0</td>\n",
       "      <td>3.0</td>\n",
       "      <td>17.3</td>\n",
       "      <td>2.000000</td>\n",
       "      <td>Y</td>\n",
       "      <td>1.000000</td>\n",
       "      <td>N</td>\n",
       "    </tr>\n",
       "  </tbody>\n",
       "</table>\n",
       "</div>"
      ],
      "text/plain": [
       "     State      Race  # of Cases  % of Population  % of Cases  % of Deaths  \\\n",
       "0  Alabama     Black     35458.0             27.0        35.0         40.0   \n",
       "1  Alabama     Asian       576.0              1.0         1.0          1.0   \n",
       "2  Alabama     White     55718.0             68.0        51.0         57.0   \n",
       "3  Alabama  Hispanic         NaN              4.0        10.0          3.0   \n",
       "4   Alaska     Black       469.0              3.0         6.0          3.0   \n",
       "\n",
       "   Poverty %  Cases/Pop Cases-Over33%  Death/Pop Deaths-Over33%  \n",
       "0       28.4   1.296296             N   1.481481              Y  \n",
       "1       12.9   1.000000             N   1.000000              N  \n",
       "2       12.8   0.750000             N   0.838235              N  \n",
       "3       32.2   2.500000             Y   0.750000              N  \n",
       "4       17.3   2.000000             Y   1.000000              N  "
      ]
     },
     "execution_count": 3,
     "metadata": {},
     "output_type": "execute_result"
    }
   ],
   "source": [
    "#viewing first five rows of data\n",
    "data.head()"
   ]
  },
  {
   "cell_type": "code",
   "execution_count": 4,
   "metadata": {},
   "outputs": [
    {
     "data": {
      "text/plain": [
       "(200, 11)"
      ]
     },
     "execution_count": 4,
     "metadata": {},
     "output_type": "execute_result"
    }
   ],
   "source": [
    "#viewing shape of data frame\n",
    "data.shape"
   ]
  },
  {
   "cell_type": "code",
   "execution_count": 5,
   "metadata": {},
   "outputs": [],
   "source": [
    "#removing # of cases feature\n",
    "data=data.drop(['# of Cases'],axis=1)\n",
    "\n",
    "# number of cases feature was dropped because it contained a lot of missing values and was not\n",
    "#really a representation of the impact of race on COVID since it did not take the population\n",
    "#of each race into account. Most of the missing values were for Hispanic group \n",
    "#and therefore this race would not be equally represented."
   ]
  },
  {
   "cell_type": "code",
   "execution_count": 6,
   "metadata": {},
   "outputs": [],
   "source": [
    "#dropping rows that have NaN\n",
    "#there were several states or rows that had missing data for Hispanic race\n",
    "#and it made sense to drop these rows since we had no idea how they were\n",
    "#represented in that particular state's population \n",
    "\n",
    "data=data.dropna(axis=0,how='any')"
   ]
  },
  {
   "cell_type": "code",
   "execution_count": 24,
   "metadata": {},
   "outputs": [
    {
     "data": {
      "text/plain": [
       "(191, 10)"
      ]
     },
     "execution_count": 24,
     "metadata": {},
     "output_type": "execute_result"
    }
   ],
   "source": [
    "#checking new shape\n",
    "data.shape "
   ]
  },
  {
   "cell_type": "code",
   "execution_count": 25,
   "metadata": {},
   "outputs": [
    {
     "data": {
      "text/html": [
       "<div>\n",
       "<style scoped>\n",
       "    .dataframe tbody tr th:only-of-type {\n",
       "        vertical-align: middle;\n",
       "    }\n",
       "\n",
       "    .dataframe tbody tr th {\n",
       "        vertical-align: top;\n",
       "    }\n",
       "\n",
       "    .dataframe thead th {\n",
       "        text-align: right;\n",
       "    }\n",
       "</style>\n",
       "<table border=\"1\" class=\"dataframe\">\n",
       "  <thead>\n",
       "    <tr style=\"text-align: right;\">\n",
       "      <th></th>\n",
       "      <th>% of Population</th>\n",
       "      <th>% of Cases</th>\n",
       "      <th>% of Deaths</th>\n",
       "      <th>Poverty %</th>\n",
       "      <th>Cases/Pop</th>\n",
       "      <th>Death/Pop</th>\n",
       "    </tr>\n",
       "  </thead>\n",
       "  <tbody>\n",
       "    <tr>\n",
       "      <th>count</th>\n",
       "      <td>191.000000</td>\n",
       "      <td>191.000000</td>\n",
       "      <td>191.000000</td>\n",
       "      <td>191.000000</td>\n",
       "      <td>191.000000</td>\n",
       "      <td>191.000000</td>\n",
       "    </tr>\n",
       "    <tr>\n",
       "      <th>mean</th>\n",
       "      <td>25.560209</td>\n",
       "      <td>24.973822</td>\n",
       "      <td>24.581152</td>\n",
       "      <td>17.856021</td>\n",
       "      <td>1.498084</td>\n",
       "      <td>0.997465</td>\n",
       "    </tr>\n",
       "    <tr>\n",
       "      <th>std</th>\n",
       "      <td>29.953741</td>\n",
       "      <td>23.498362</td>\n",
       "      <td>27.530509</td>\n",
       "      <td>7.156488</td>\n",
       "      <td>1.645924</td>\n",
       "      <td>0.530900</td>\n",
       "    </tr>\n",
       "    <tr>\n",
       "      <th>min</th>\n",
       "      <td>1.000000</td>\n",
       "      <td>1.000000</td>\n",
       "      <td>0.000000</td>\n",
       "      <td>6.400000</td>\n",
       "      <td>0.250000</td>\n",
       "      <td>0.000000</td>\n",
       "    </tr>\n",
       "    <tr>\n",
       "      <th>25%</th>\n",
       "      <td>4.000000</td>\n",
       "      <td>4.000000</td>\n",
       "      <td>3.000000</td>\n",
       "      <td>11.700000</td>\n",
       "      <td>0.756940</td>\n",
       "      <td>0.711573</td>\n",
       "    </tr>\n",
       "    <tr>\n",
       "      <th>50%</th>\n",
       "      <td>9.000000</td>\n",
       "      <td>17.000000</td>\n",
       "      <td>11.000000</td>\n",
       "      <td>17.100000</td>\n",
       "      <td>1.095238</td>\n",
       "      <td>1.000000</td>\n",
       "    </tr>\n",
       "    <tr>\n",
       "      <th>75%</th>\n",
       "      <td>40.500000</td>\n",
       "      <td>40.500000</td>\n",
       "      <td>44.500000</td>\n",
       "      <td>23.300000</td>\n",
       "      <td>2.000000</td>\n",
       "      <td>1.233806</td>\n",
       "    </tr>\n",
       "    <tr>\n",
       "      <th>max</th>\n",
       "      <td>94.000000</td>\n",
       "      <td>87.000000</td>\n",
       "      <td>97.000000</td>\n",
       "      <td>36.500000</td>\n",
       "      <td>19.000000</td>\n",
       "      <td>3.000000</td>\n",
       "    </tr>\n",
       "  </tbody>\n",
       "</table>\n",
       "</div>"
      ],
      "text/plain": [
       "       % of Population  % of Cases  % of Deaths   Poverty %   Cases/Pop  \\\n",
       "count       191.000000  191.000000   191.000000  191.000000  191.000000   \n",
       "mean         25.560209   24.973822    24.581152   17.856021    1.498084   \n",
       "std          29.953741   23.498362    27.530509    7.156488    1.645924   \n",
       "min           1.000000    1.000000     0.000000    6.400000    0.250000   \n",
       "25%           4.000000    4.000000     3.000000   11.700000    0.756940   \n",
       "50%           9.000000   17.000000    11.000000   17.100000    1.095238   \n",
       "75%          40.500000   40.500000    44.500000   23.300000    2.000000   \n",
       "max          94.000000   87.000000    97.000000   36.500000   19.000000   \n",
       "\n",
       "        Death/Pop  \n",
       "count  191.000000  \n",
       "mean     0.997465  \n",
       "std      0.530900  \n",
       "min      0.000000  \n",
       "25%      0.711573  \n",
       "50%      1.000000  \n",
       "75%      1.233806  \n",
       "max      3.000000  "
      ]
     },
     "execution_count": 25,
     "metadata": {},
     "output_type": "execute_result"
    }
   ],
   "source": [
    "#describing overall data\n",
    "data.describe()"
   ]
  },
  {
   "cell_type": "code",
   "execution_count": 26,
   "metadata": {},
   "outputs": [],
   "source": [
    "#pulling black data\n",
    "black=data.loc[data['Race']=='Black']"
   ]
  },
  {
   "cell_type": "code",
   "execution_count": 27,
   "metadata": {},
   "outputs": [],
   "source": [
    "#pulling asian data\n",
    "asian=data.loc[data['Race']=='Asian']\n"
   ]
  },
  {
   "cell_type": "code",
   "execution_count": 28,
   "metadata": {},
   "outputs": [],
   "source": [
    "#pulling white data\n",
    "white=data.loc[data['Race']=='White']"
   ]
  },
  {
   "cell_type": "code",
   "execution_count": 29,
   "metadata": {},
   "outputs": [],
   "source": [
    "#pulling hispanic data\n",
    "hispanic=data.loc[data['Race']=='Hispanic']\n"
   ]
  },
  {
   "cell_type": "code",
   "execution_count": 30,
   "metadata": {},
   "outputs": [
    {
     "data": {
      "text/html": [
       "<div>\n",
       "<style scoped>\n",
       "    .dataframe tbody tr th:only-of-type {\n",
       "        vertical-align: middle;\n",
       "    }\n",
       "\n",
       "    .dataframe tbody tr th {\n",
       "        vertical-align: top;\n",
       "    }\n",
       "\n",
       "    .dataframe thead th {\n",
       "        text-align: right;\n",
       "    }\n",
       "</style>\n",
       "<table border=\"1\" class=\"dataframe\">\n",
       "  <thead>\n",
       "    <tr style=\"text-align: right;\">\n",
       "      <th></th>\n",
       "      <th>% of Population</th>\n",
       "      <th>% of Cases</th>\n",
       "      <th>% of Deaths</th>\n",
       "      <th>Poverty %</th>\n",
       "      <th>Cases/Pop</th>\n",
       "      <th>Death/Pop</th>\n",
       "    </tr>\n",
       "  </thead>\n",
       "  <tbody>\n",
       "    <tr>\n",
       "      <th>count</th>\n",
       "      <td>49.000000</td>\n",
       "      <td>49.000000</td>\n",
       "      <td>49.000000</td>\n",
       "      <td>49.000000</td>\n",
       "      <td>49.000000</td>\n",
       "      <td>49.000000</td>\n",
       "    </tr>\n",
       "    <tr>\n",
       "      <th>mean</th>\n",
       "      <td>10.632653</td>\n",
       "      <td>15.102041</td>\n",
       "      <td>15.530612</td>\n",
       "      <td>24.787755</td>\n",
       "      <td>2.041726</td>\n",
       "      <td>1.427841</td>\n",
       "    </tr>\n",
       "    <tr>\n",
       "      <th>std</th>\n",
       "      <td>9.468575</td>\n",
       "      <td>11.387575</td>\n",
       "      <td>13.858063</td>\n",
       "      <td>5.681426</td>\n",
       "      <td>2.862014</td>\n",
       "      <td>0.586746</td>\n",
       "    </tr>\n",
       "    <tr>\n",
       "      <th>min</th>\n",
       "      <td>1.000000</td>\n",
       "      <td>1.000000</td>\n",
       "      <td>0.000000</td>\n",
       "      <td>11.200000</td>\n",
       "      <td>0.666667</td>\n",
       "      <td>0.000000</td>\n",
       "    </tr>\n",
       "    <tr>\n",
       "      <th>25%</th>\n",
       "      <td>4.000000</td>\n",
       "      <td>6.000000</td>\n",
       "      <td>3.000000</td>\n",
       "      <td>21.500000</td>\n",
       "      <td>1.200000</td>\n",
       "      <td>1.000000</td>\n",
       "    </tr>\n",
       "    <tr>\n",
       "      <th>50%</th>\n",
       "      <td>7.000000</td>\n",
       "      <td>13.000000</td>\n",
       "      <td>12.000000</td>\n",
       "      <td>24.900000</td>\n",
       "      <td>1.318182</td>\n",
       "      <td>1.437500</td>\n",
       "    </tr>\n",
       "    <tr>\n",
       "      <th>75%</th>\n",
       "      <td>14.000000</td>\n",
       "      <td>21.000000</td>\n",
       "      <td>25.000000</td>\n",
       "      <td>28.700000</td>\n",
       "      <td>1.800000</td>\n",
       "      <td>1.625000</td>\n",
       "    </tr>\n",
       "    <tr>\n",
       "      <th>max</th>\n",
       "      <td>38.000000</td>\n",
       "      <td>45.000000</td>\n",
       "      <td>47.000000</td>\n",
       "      <td>36.500000</td>\n",
       "      <td>19.000000</td>\n",
       "      <td>3.000000</td>\n",
       "    </tr>\n",
       "  </tbody>\n",
       "</table>\n",
       "</div>"
      ],
      "text/plain": [
       "       % of Population  % of Cases  % of Deaths  Poverty %  Cases/Pop  \\\n",
       "count        49.000000   49.000000    49.000000  49.000000  49.000000   \n",
       "mean         10.632653   15.102041    15.530612  24.787755   2.041726   \n",
       "std           9.468575   11.387575    13.858063   5.681426   2.862014   \n",
       "min           1.000000    1.000000     0.000000  11.200000   0.666667   \n",
       "25%           4.000000    6.000000     3.000000  21.500000   1.200000   \n",
       "50%           7.000000   13.000000    12.000000  24.900000   1.318182   \n",
       "75%          14.000000   21.000000    25.000000  28.700000   1.800000   \n",
       "max          38.000000   45.000000    47.000000  36.500000  19.000000   \n",
       "\n",
       "       Death/Pop  \n",
       "count  49.000000  \n",
       "mean    1.427841  \n",
       "std     0.586746  \n",
       "min     0.000000  \n",
       "25%     1.000000  \n",
       "50%     1.437500  \n",
       "75%     1.625000  \n",
       "max     3.000000  "
      ]
     },
     "execution_count": 30,
     "metadata": {},
     "output_type": "execute_result"
    }
   ],
   "source": [
    "#summary of black data\n",
    "black.describe()"
   ]
  },
  {
   "cell_type": "code",
   "execution_count": 31,
   "metadata": {},
   "outputs": [
    {
     "data": {
      "text/html": [
       "<div>\n",
       "<style scoped>\n",
       "    .dataframe tbody tr th:only-of-type {\n",
       "        vertical-align: middle;\n",
       "    }\n",
       "\n",
       "    .dataframe tbody tr th {\n",
       "        vertical-align: top;\n",
       "    }\n",
       "\n",
       "    .dataframe thead th {\n",
       "        text-align: right;\n",
       "    }\n",
       "</style>\n",
       "<table border=\"1\" class=\"dataframe\">\n",
       "  <thead>\n",
       "    <tr style=\"text-align: right;\">\n",
       "      <th></th>\n",
       "      <th>% of Population</th>\n",
       "      <th>% of Cases</th>\n",
       "      <th>% of Deaths</th>\n",
       "      <th>Poverty %</th>\n",
       "      <th>Cases/Pop</th>\n",
       "      <th>Death/Pop</th>\n",
       "    </tr>\n",
       "  </thead>\n",
       "  <tbody>\n",
       "    <tr>\n",
       "      <th>count</th>\n",
       "      <td>45.000000</td>\n",
       "      <td>45.000000</td>\n",
       "      <td>45.000000</td>\n",
       "      <td>45.000000</td>\n",
       "      <td>45.000000</td>\n",
       "      <td>45.000000</td>\n",
       "    </tr>\n",
       "    <tr>\n",
       "      <th>mean</th>\n",
       "      <td>4.377778</td>\n",
       "      <td>3.644444</td>\n",
       "      <td>4.088889</td>\n",
       "      <td>13.137778</td>\n",
       "      <td>1.013448</td>\n",
       "      <td>0.782751</td>\n",
       "    </tr>\n",
       "    <tr>\n",
       "      <th>std</th>\n",
       "      <td>5.773328</td>\n",
       "      <td>5.108618</td>\n",
       "      <td>8.657163</td>\n",
       "      <td>3.470086</td>\n",
       "      <td>0.658608</td>\n",
       "      <td>0.603572</td>\n",
       "    </tr>\n",
       "    <tr>\n",
       "      <th>min</th>\n",
       "      <td>1.000000</td>\n",
       "      <td>1.000000</td>\n",
       "      <td>0.000000</td>\n",
       "      <td>6.400000</td>\n",
       "      <td>0.250000</td>\n",
       "      <td>0.000000</td>\n",
       "    </tr>\n",
       "    <tr>\n",
       "      <th>25%</th>\n",
       "      <td>2.000000</td>\n",
       "      <td>2.000000</td>\n",
       "      <td>1.000000</td>\n",
       "      <td>10.700000</td>\n",
       "      <td>0.555556</td>\n",
       "      <td>0.333333</td>\n",
       "    </tr>\n",
       "    <tr>\n",
       "      <th>50%</th>\n",
       "      <td>3.000000</td>\n",
       "      <td>2.000000</td>\n",
       "      <td>2.000000</td>\n",
       "      <td>13.800000</td>\n",
       "      <td>0.875000</td>\n",
       "      <td>0.833333</td>\n",
       "    </tr>\n",
       "    <tr>\n",
       "      <th>75%</th>\n",
       "      <td>5.000000</td>\n",
       "      <td>4.000000</td>\n",
       "      <td>4.000000</td>\n",
       "      <td>15.300000</td>\n",
       "      <td>1.000000</td>\n",
       "      <td>1.000000</td>\n",
       "    </tr>\n",
       "    <tr>\n",
       "      <th>max</th>\n",
       "      <td>38.000000</td>\n",
       "      <td>35.000000</td>\n",
       "      <td>57.000000</td>\n",
       "      <td>19.800000</td>\n",
       "      <td>3.000000</td>\n",
       "      <td>2.500000</td>\n",
       "    </tr>\n",
       "  </tbody>\n",
       "</table>\n",
       "</div>"
      ],
      "text/plain": [
       "       % of Population  % of Cases  % of Deaths  Poverty %  Cases/Pop  \\\n",
       "count        45.000000   45.000000    45.000000  45.000000  45.000000   \n",
       "mean          4.377778    3.644444     4.088889  13.137778   1.013448   \n",
       "std           5.773328    5.108618     8.657163   3.470086   0.658608   \n",
       "min           1.000000    1.000000     0.000000   6.400000   0.250000   \n",
       "25%           2.000000    2.000000     1.000000  10.700000   0.555556   \n",
       "50%           3.000000    2.000000     2.000000  13.800000   0.875000   \n",
       "75%           5.000000    4.000000     4.000000  15.300000   1.000000   \n",
       "max          38.000000   35.000000    57.000000  19.800000   3.000000   \n",
       "\n",
       "       Death/Pop  \n",
       "count  45.000000  \n",
       "mean    0.782751  \n",
       "std     0.603572  \n",
       "min     0.000000  \n",
       "25%     0.333333  \n",
       "50%     0.833333  \n",
       "75%     1.000000  \n",
       "max     2.500000  "
      ]
     },
     "execution_count": 31,
     "metadata": {},
     "output_type": "execute_result"
    }
   ],
   "source": [
    "#summary of asian data\n",
    "asian.describe()"
   ]
  },
  {
   "cell_type": "code",
   "execution_count": 32,
   "metadata": {},
   "outputs": [
    {
     "data": {
      "text/html": [
       "<div>\n",
       "<style scoped>\n",
       "    .dataframe tbody tr th:only-of-type {\n",
       "        vertical-align: middle;\n",
       "    }\n",
       "\n",
       "    .dataframe tbody tr th {\n",
       "        vertical-align: top;\n",
       "    }\n",
       "\n",
       "    .dataframe thead th {\n",
       "        text-align: right;\n",
       "    }\n",
       "</style>\n",
       "<table border=\"1\" class=\"dataframe\">\n",
       "  <thead>\n",
       "    <tr style=\"text-align: right;\">\n",
       "      <th></th>\n",
       "      <th>% of Population</th>\n",
       "      <th>% of Cases</th>\n",
       "      <th>% of Deaths</th>\n",
       "      <th>Poverty %</th>\n",
       "      <th>Cases/Pop</th>\n",
       "      <th>Death/Pop</th>\n",
       "    </tr>\n",
       "  </thead>\n",
       "  <tbody>\n",
       "    <tr>\n",
       "      <th>count</th>\n",
       "      <td>50.000000</td>\n",
       "      <td>50.000000</td>\n",
       "      <td>50.000000</td>\n",
       "      <td>50.000000</td>\n",
       "      <td>50.000000</td>\n",
       "      <td>50.000000</td>\n",
       "    </tr>\n",
       "    <tr>\n",
       "      <th>mean</th>\n",
       "      <td>71.800000</td>\n",
       "      <td>54.760000</td>\n",
       "      <td>63.600000</td>\n",
       "      <td>11.198000</td>\n",
       "      <td>0.746218</td>\n",
       "      <td>0.872467</td>\n",
       "    </tr>\n",
       "    <tr>\n",
       "      <th>std</th>\n",
       "      <td>16.463937</td>\n",
       "      <td>19.094352</td>\n",
       "      <td>19.331691</td>\n",
       "      <td>2.476048</td>\n",
       "      <td>0.145762</td>\n",
       "      <td>0.150633</td>\n",
       "    </tr>\n",
       "    <tr>\n",
       "      <th>min</th>\n",
       "      <td>25.000000</td>\n",
       "      <td>15.000000</td>\n",
       "      <td>9.000000</td>\n",
       "      <td>7.000000</td>\n",
       "      <td>0.421053</td>\n",
       "      <td>0.360000</td>\n",
       "    </tr>\n",
       "    <tr>\n",
       "      <th>25%</th>\n",
       "      <td>62.000000</td>\n",
       "      <td>41.000000</td>\n",
       "      <td>51.500000</td>\n",
       "      <td>9.475000</td>\n",
       "      <td>0.653418</td>\n",
       "      <td>0.798882</td>\n",
       "    </tr>\n",
       "    <tr>\n",
       "      <th>50%</th>\n",
       "      <td>74.000000</td>\n",
       "      <td>53.000000</td>\n",
       "      <td>66.500000</td>\n",
       "      <td>11.200000</td>\n",
       "      <td>0.764362</td>\n",
       "      <td>0.892646</td>\n",
       "    </tr>\n",
       "    <tr>\n",
       "      <th>75%</th>\n",
       "      <td>84.750000</td>\n",
       "      <td>71.750000</td>\n",
       "      <td>77.000000</td>\n",
       "      <td>12.775000</td>\n",
       "      <td>0.852343</td>\n",
       "      <td>0.965209</td>\n",
       "    </tr>\n",
       "    <tr>\n",
       "      <th>max</th>\n",
       "      <td>94.000000</td>\n",
       "      <td>87.000000</td>\n",
       "      <td>97.000000</td>\n",
       "      <td>17.500000</td>\n",
       "      <td>0.986111</td>\n",
       "      <td>1.109589</td>\n",
       "    </tr>\n",
       "  </tbody>\n",
       "</table>\n",
       "</div>"
      ],
      "text/plain": [
       "       % of Population  % of Cases  % of Deaths  Poverty %  Cases/Pop  \\\n",
       "count        50.000000   50.000000    50.000000  50.000000  50.000000   \n",
       "mean         71.800000   54.760000    63.600000  11.198000   0.746218   \n",
       "std          16.463937   19.094352    19.331691   2.476048   0.145762   \n",
       "min          25.000000   15.000000     9.000000   7.000000   0.421053   \n",
       "25%          62.000000   41.000000    51.500000   9.475000   0.653418   \n",
       "50%          74.000000   53.000000    66.500000  11.200000   0.764362   \n",
       "75%          84.750000   71.750000    77.000000  12.775000   0.852343   \n",
       "max          94.000000   87.000000    97.000000  17.500000   0.986111   \n",
       "\n",
       "       Death/Pop  \n",
       "count  50.000000  \n",
       "mean    0.872467  \n",
       "std     0.150633  \n",
       "min     0.360000  \n",
       "25%     0.798882  \n",
       "50%     0.892646  \n",
       "75%     0.965209  \n",
       "max     1.109589  "
      ]
     },
     "execution_count": 32,
     "metadata": {},
     "output_type": "execute_result"
    }
   ],
   "source": [
    "#summary of white data\n",
    "white.describe()"
   ]
  },
  {
   "cell_type": "code",
   "execution_count": 33,
   "metadata": {},
   "outputs": [
    {
     "data": {
      "text/html": [
       "<div>\n",
       "<style scoped>\n",
       "    .dataframe tbody tr th:only-of-type {\n",
       "        vertical-align: middle;\n",
       "    }\n",
       "\n",
       "    .dataframe tbody tr th {\n",
       "        vertical-align: top;\n",
       "    }\n",
       "\n",
       "    .dataframe thead th {\n",
       "        text-align: right;\n",
       "    }\n",
       "</style>\n",
       "<table border=\"1\" class=\"dataframe\">\n",
       "  <thead>\n",
       "    <tr style=\"text-align: right;\">\n",
       "      <th></th>\n",
       "      <th>% of Population</th>\n",
       "      <th>% of Cases</th>\n",
       "      <th>% of Deaths</th>\n",
       "      <th>Poverty %</th>\n",
       "      <th>Cases/Pop</th>\n",
       "      <th>Death/Pop</th>\n",
       "    </tr>\n",
       "  </thead>\n",
       "  <tbody>\n",
       "    <tr>\n",
       "      <th>count</th>\n",
       "      <td>47.000000</td>\n",
       "      <td>47.000000</td>\n",
       "      <td>47.000000</td>\n",
       "      <td>47.000000</td>\n",
       "      <td>47.000000</td>\n",
       "      <td>47.000000</td>\n",
       "    </tr>\n",
       "    <tr>\n",
       "      <th>mean</th>\n",
       "      <td>12.212766</td>\n",
       "      <td>24.000000</td>\n",
       "      <td>12.127660</td>\n",
       "      <td>22.229787</td>\n",
       "      <td>2.195179</td>\n",
       "      <td>0.887329</td>\n",
       "    </tr>\n",
       "    <tr>\n",
       "      <th>std</th>\n",
       "      <td>10.458897</td>\n",
       "      <td>14.760405</td>\n",
       "      <td>12.207654</td>\n",
       "      <td>4.372737</td>\n",
       "      <td>0.741131</td>\n",
       "      <td>0.400666</td>\n",
       "    </tr>\n",
       "    <tr>\n",
       "      <th>min</th>\n",
       "      <td>2.000000</td>\n",
       "      <td>3.000000</td>\n",
       "      <td>0.000000</td>\n",
       "      <td>11.100000</td>\n",
       "      <td>0.600000</td>\n",
       "      <td>0.000000</td>\n",
       "    </tr>\n",
       "    <tr>\n",
       "      <th>25%</th>\n",
       "      <td>5.000000</td>\n",
       "      <td>13.000000</td>\n",
       "      <td>4.000000</td>\n",
       "      <td>19.200000</td>\n",
       "      <td>1.585623</td>\n",
       "      <td>0.600000</td>\n",
       "    </tr>\n",
       "    <tr>\n",
       "      <th>50%</th>\n",
       "      <td>9.000000</td>\n",
       "      <td>22.000000</td>\n",
       "      <td>7.000000</td>\n",
       "      <td>22.300000</td>\n",
       "      <td>2.166667</td>\n",
       "      <td>0.857143</td>\n",
       "    </tr>\n",
       "    <tr>\n",
       "      <th>75%</th>\n",
       "      <td>14.500000</td>\n",
       "      <td>33.500000</td>\n",
       "      <td>18.000000</td>\n",
       "      <td>24.900000</td>\n",
       "      <td>2.625000</td>\n",
       "      <td>1.115556</td>\n",
       "    </tr>\n",
       "    <tr>\n",
       "      <th>max</th>\n",
       "      <td>49.000000</td>\n",
       "      <td>61.000000</td>\n",
       "      <td>56.000000</td>\n",
       "      <td>32.200000</td>\n",
       "      <td>3.555556</td>\n",
       "      <td>2.000000</td>\n",
       "    </tr>\n",
       "  </tbody>\n",
       "</table>\n",
       "</div>"
      ],
      "text/plain": [
       "       % of Population  % of Cases  % of Deaths  Poverty %  Cases/Pop  \\\n",
       "count        47.000000   47.000000    47.000000  47.000000  47.000000   \n",
       "mean         12.212766   24.000000    12.127660  22.229787   2.195179   \n",
       "std          10.458897   14.760405    12.207654   4.372737   0.741131   \n",
       "min           2.000000    3.000000     0.000000  11.100000   0.600000   \n",
       "25%           5.000000   13.000000     4.000000  19.200000   1.585623   \n",
       "50%           9.000000   22.000000     7.000000  22.300000   2.166667   \n",
       "75%          14.500000   33.500000    18.000000  24.900000   2.625000   \n",
       "max          49.000000   61.000000    56.000000  32.200000   3.555556   \n",
       "\n",
       "       Death/Pop  \n",
       "count  47.000000  \n",
       "mean    0.887329  \n",
       "std     0.400666  \n",
       "min     0.000000  \n",
       "25%     0.600000  \n",
       "50%     0.857143  \n",
       "75%     1.115556  \n",
       "max     2.000000  "
      ]
     },
     "execution_count": 33,
     "metadata": {},
     "output_type": "execute_result"
    }
   ],
   "source": [
    "#summary of hispanic data\n",
    "hispanic.describe()"
   ]
  },
  {
   "cell_type": "code",
   "execution_count": 34,
   "metadata": {},
   "outputs": [],
   "source": [
    "#SUMMARY OF DATA SUMMARIES\n",
    "\n",
    "#Highest%of pop to lowest: white, hispanic, black, asian\n",
    "#Highest-lowest %of cases: white, hispanic, black, white\n",
    "#highest-lowest % of deaths: white, black, hispanic, asian\n",
    "#highest-lowest poverty %: black, hispanic, asian, white\n",
    "#highest-lowest case to pop ratio: hispanic, black, asian, white\n",
    "#highest-lowest death to pop ratio: black, hispanic, white, asian\n"
   ]
  },
  {
   "cell_type": "code",
   "execution_count": 35,
   "metadata": {},
   "outputs": [
    {
     "data": {
      "text/html": [
       "<div>\n",
       "<style scoped>\n",
       "    .dataframe tbody tr th:only-of-type {\n",
       "        vertical-align: middle;\n",
       "    }\n",
       "\n",
       "    .dataframe tbody tr th {\n",
       "        vertical-align: top;\n",
       "    }\n",
       "\n",
       "    .dataframe thead th {\n",
       "        text-align: right;\n",
       "    }\n",
       "</style>\n",
       "<table border=\"1\" class=\"dataframe\">\n",
       "  <thead>\n",
       "    <tr style=\"text-align: right;\">\n",
       "      <th></th>\n",
       "      <th>% of Population</th>\n",
       "      <th>% of Cases</th>\n",
       "      <th>% of Deaths</th>\n",
       "      <th>Poverty %</th>\n",
       "      <th>Cases/Pop</th>\n",
       "      <th>Death/Pop</th>\n",
       "    </tr>\n",
       "  </thead>\n",
       "  <tbody>\n",
       "    <tr>\n",
       "      <th>% of Population</th>\n",
       "      <td>1.000000</td>\n",
       "      <td>0.916160</td>\n",
       "      <td>0.964367</td>\n",
       "      <td>-0.476775</td>\n",
       "      <td>-0.271545</td>\n",
       "      <td>-0.057795</td>\n",
       "    </tr>\n",
       "    <tr>\n",
       "      <th>% of Cases</th>\n",
       "      <td>0.916160</td>\n",
       "      <td>1.000000</td>\n",
       "      <td>0.918096</td>\n",
       "      <td>-0.292535</td>\n",
       "      <td>-0.106351</td>\n",
       "      <td>0.040047</td>\n",
       "    </tr>\n",
       "    <tr>\n",
       "      <th>% of Deaths</th>\n",
       "      <td>0.964367</td>\n",
       "      <td>0.918096</td>\n",
       "      <td>1.000000</td>\n",
       "      <td>-0.403985</td>\n",
       "      <td>-0.253287</td>\n",
       "      <td>0.094113</td>\n",
       "    </tr>\n",
       "    <tr>\n",
       "      <th>Poverty %</th>\n",
       "      <td>-0.476775</td>\n",
       "      <td>-0.292535</td>\n",
       "      <td>-0.403985</td>\n",
       "      <td>1.000000</td>\n",
       "      <td>0.429909</td>\n",
       "      <td>0.344540</td>\n",
       "    </tr>\n",
       "    <tr>\n",
       "      <th>Cases/Pop</th>\n",
       "      <td>-0.271545</td>\n",
       "      <td>-0.106351</td>\n",
       "      <td>-0.253287</td>\n",
       "      <td>0.429909</td>\n",
       "      <td>1.000000</td>\n",
       "      <td>0.248596</td>\n",
       "    </tr>\n",
       "    <tr>\n",
       "      <th>Death/Pop</th>\n",
       "      <td>-0.057795</td>\n",
       "      <td>0.040047</td>\n",
       "      <td>0.094113</td>\n",
       "      <td>0.344540</td>\n",
       "      <td>0.248596</td>\n",
       "      <td>1.000000</td>\n",
       "    </tr>\n",
       "  </tbody>\n",
       "</table>\n",
       "</div>"
      ],
      "text/plain": [
       "                 % of Population  % of Cases  % of Deaths  Poverty %  \\\n",
       "% of Population         1.000000    0.916160     0.964367  -0.476775   \n",
       "% of Cases              0.916160    1.000000     0.918096  -0.292535   \n",
       "% of Deaths             0.964367    0.918096     1.000000  -0.403985   \n",
       "Poverty %              -0.476775   -0.292535    -0.403985   1.000000   \n",
       "Cases/Pop              -0.271545   -0.106351    -0.253287   0.429909   \n",
       "Death/Pop              -0.057795    0.040047     0.094113   0.344540   \n",
       "\n",
       "                 Cases/Pop  Death/Pop  \n",
       "% of Population  -0.271545  -0.057795  \n",
       "% of Cases       -0.106351   0.040047  \n",
       "% of Deaths      -0.253287   0.094113  \n",
       "Poverty %         0.429909   0.344540  \n",
       "Cases/Pop         1.000000   0.248596  \n",
       "Death/Pop         0.248596   1.000000  "
      ]
     },
     "execution_count": 35,
     "metadata": {},
     "output_type": "execute_result"
    }
   ],
   "source": [
    "#finding correlations between variables\n",
    "data.corr(method='pearson')"
   ]
  },
  {
   "cell_type": "code",
   "execution_count": 36,
   "metadata": {},
   "outputs": [],
   "source": [
    "#SUMMARY OF CORRELATIONS\n",
    "\n",
    "#as expected, %of cases, %of population, & %of deaths were highly correlated"
   ]
  },
  {
   "cell_type": "code",
   "execution_count": 37,
   "metadata": {},
   "outputs": [
    {
     "data": {
      "text/plain": [
       "Text(0, 0.5, '% of Population')"
      ]
     },
     "execution_count": 37,
     "metadata": {},
     "output_type": "execute_result"
    },
    {
     "data": {
      "image/png": "[encoded data removed]",
      "text/plain": [
       "<Figure size 432x288 with 1 Axes>"
      ]
     },
     "metadata": {
      "needs_background": "light"
     },
     "output_type": "display_data"
    }
   ],
   "source": [
    "#histogram of % pop data by race\n",
    "\n",
    "averages=[black['% of Population'].mean(),asian['% of Population'].mean(),white['% of Population'].mean(),hispanic['% of Population'].mean()]\n",
    "races=['Black','Asian','White','Hispanic']\n",
    "\n",
    "plt.bar(races,averages)\n",
    "plt.title('Race % of Population')\n",
    "plt.xlabel('Race')\n",
    "plt.ylabel('% of Population')"
   ]
  },
  {
   "cell_type": "code",
   "execution_count": 38,
   "metadata": {},
   "outputs": [],
   "source": [
    "#as you can see from above, white are a majority of population"
   ]
  },
  {
   "cell_type": "code",
   "execution_count": 39,
   "metadata": {},
   "outputs": [
    {
     "data": {
      "text/plain": [
       "Text(0, 0.5, '% of Cases')"
      ]
     },
     "execution_count": 39,
     "metadata": {},
     "output_type": "execute_result"
    },
    {
     "data": {
      "image/png": "[encoded data removed]",
      "text/plain": [
       "<Figure size 432x288 with 1 Axes>"
      ]
     },
     "metadata": {
      "needs_background": "light"
     },
     "output_type": "display_data"
    }
   ],
   "source": [
    "#histogram of % case data by race\n",
    "\n",
    "averages=[black['% of Cases'].mean(),asian['% of Cases'].mean(),white['% of Cases'].mean(),hispanic['% of Cases'].mean()]\n",
    "races=['Black','Asian','White','Hispanic']\n",
    "\n",
    "plt.bar(races,averages)\n",
    "plt.title('% of Cases by Race')\n",
    "plt.xlabel('Race')\n",
    "plt.ylabel('% of Cases')"
   ]
  },
  {
   "cell_type": "code",
   "execution_count": 40,
   "metadata": {},
   "outputs": [],
   "source": [
    "#as you can see, white had highest % of cases"
   ]
  },
  {
   "cell_type": "code",
   "execution_count": 41,
   "metadata": {},
   "outputs": [
    {
     "data": {
      "text/plain": [
       "Text(0, 0.5, '% of Deaths')"
      ]
     },
     "execution_count": 41,
     "metadata": {},
     "output_type": "execute_result"
    },
    {
     "data": {
      "image/png": "[encoded data removed]",
      "text/plain": [
       "<Figure size 432x288 with 1 Axes>"
      ]
     },
     "metadata": {
      "needs_background": "light"
     },
     "output_type": "display_data"
    }
   ],
   "source": [
    "#histogram of % death data by race\n",
    "\n",
    "averages=[black['% of Deaths'].mean(),asian['% of Deaths'].mean(),white['% of Deaths'].mean(),hispanic['% of Deaths'].mean()]\n",
    "races=['Black','Asian','White','Hispanic']\n",
    "\n",
    "plt.bar(races,averages)\n",
    "plt.title('Race % of Deaths')\n",
    "plt.xlabel('Race')\n",
    "plt.ylabel('% of Deaths')"
   ]
  },
  {
   "cell_type": "code",
   "execution_count": 42,
   "metadata": {},
   "outputs": [],
   "source": [
    "#white had the highest percent of deaths. However, the case and death histograms do not take into account the % of \n",
    "#population that each race makes up"
   ]
  },
  {
   "cell_type": "code",
   "execution_count": 43,
   "metadata": {},
   "outputs": [
    {
     "data": {
      "text/plain": [
       "Text(0, 0.5, 'Cases/Pop')"
      ]
     },
     "execution_count": 43,
     "metadata": {},
     "output_type": "execute_result"
    },
    {
     "data": {
      "image/png": "[encoded data removed]",
      "text/plain": [
       "<Figure size 432x288 with 1 Axes>"
      ]
     },
     "metadata": {
      "needs_background": "light"
     },
     "output_type": "display_data"
    }
   ],
   "source": [
    "#histogram of cases to population ratio by race\n",
    "\n",
    "averages=[black['Cases/Pop'].mean(),asian['Cases/Pop'].mean(),white['Cases/Pop'].mean(),hispanic['Cases/Pop'].mean()]\n",
    "races=['Black','Asian','White','Hispanic']\n",
    "\n",
    "plt.bar(races,averages)\n",
    "plt.title('Cases to Population Ratio by Race')\n",
    "plt.xlabel('Race')\n",
    "plt.ylabel('Cases/Pop')"
   ]
  },
  {
   "cell_type": "code",
   "execution_count": 44,
   "metadata": {},
   "outputs": [],
   "source": [
    "#as you can see, white had the lowest number of cases with regards to their population size\n",
    "#hispanic and black made up over twice the percentage of cases compared to their population percentage\n",
    "#asian were about 1:1 for population to cases, with white at a lower ratio of cases to population"
   ]
  },
  {
   "cell_type": "code",
   "execution_count": 45,
   "metadata": {},
   "outputs": [
    {
     "data": {
      "text/plain": [
       "Text(0, 0.5, 'Death/Pop')"
      ]
     },
     "execution_count": 45,
     "metadata": {},
     "output_type": "execute_result"
    },
    {
     "data": {
      "image/png": "[encoded data removed]",
      "text/plain": [
       "<Figure size 432x288 with 1 Axes>"
      ]
     },
     "metadata": {
      "needs_background": "light"
     },
     "output_type": "display_data"
    }
   ],
   "source": [
    "#histogram of deaths to population ratio by race\n",
    "\n",
    "averages=[black['Death/Pop'].mean(),asian['Death/Pop'].mean(),white['Death/Pop'].mean(),hispanic['Death/Pop'].mean()]\n",
    "races=['Black','Asian','White','Hispanic']\n",
    "\n",
    "plt.bar(races,averages)\n",
    "plt.title('Death to Population Ratio by Race')\n",
    "plt.xlabel('Race')\n",
    "plt.ylabel('Death/Pop')"
   ]
  },
  {
   "cell_type": "code",
   "execution_count": 46,
   "metadata": {},
   "outputs": [],
   "source": [
    "#you can see that black had highest ratio of deaths to population (for example: say they make up 10% of the population\n",
    "#, they would make up 14% of all the deaths on average)"
   ]
  },
  {
   "cell_type": "code",
   "execution_count": 47,
   "metadata": {},
   "outputs": [
    {
     "data": {
      "text/plain": [
       "Text(0, 0.5, 'Poverty %')"
      ]
     },
     "execution_count": 47,
     "metadata": {},
     "output_type": "execute_result"
    },
    {
     "data": {
      "image/png": "[encoded data removed]",
      "text/plain": [
       "<Figure size 432x288 with 1 Axes>"
      ]
     },
     "metadata": {
      "needs_background": "light"
     },
     "output_type": "display_data"
    }
   ],
   "source": [
    "#histogram of % poverty data by race\n",
    "\n",
    "averages=[black['Poverty %'].mean(),asian['Poverty %'].mean(),white['Poverty %'].mean(),hispanic['Poverty %'].mean()]\n",
    "races=['Black','Asian','White','Hispanic']\n",
    "\n",
    "plt.bar(races,averages)\n",
    "plt.title('Race Poverty %')\n",
    "plt.xlabel('Race')\n",
    "plt.ylabel('Poverty %')"
   ]
  },
  {
   "cell_type": "code",
   "execution_count": 48,
   "metadata": {},
   "outputs": [],
   "source": [
    "#this histogram shows that black and hispanic have the highest poverty. \n",
    "#Almost 1 in every 4 black people are in poverty\n",
    "#Over 1 in 5 hispanic people are in poverty\n",
    "#Over 1 in 10 asian people are in poverty\n",
    "#Around 1 in 10 white people are in poverty"
   ]
  },
  {
   "cell_type": "code",
   "execution_count": 49,
   "metadata": {},
   "outputs": [],
   "source": [
    "#https://covidtracking.com/race/dashboard\n",
    "#https://www.povertyusa.org/data/2018/WY"
   ]
  },
  {
   "cell_type": "code",
   "execution_count": 50,
   "metadata": {},
   "outputs": [
    {
     "data": {
      "text/html": [
       "<div>\n",
       "<style scoped>\n",
       "    .dataframe tbody tr th:only-of-type {\n",
       "        vertical-align: middle;\n",
       "    }\n",
       "\n",
       "    .dataframe tbody tr th {\n",
       "        vertical-align: top;\n",
       "    }\n",
       "\n",
       "    .dataframe thead th {\n",
       "        text-align: right;\n",
       "    }\n",
       "</style>\n",
       "<table border=\"1\" class=\"dataframe\">\n",
       "  <thead>\n",
       "    <tr style=\"text-align: right;\">\n",
       "      <th></th>\n",
       "      <th>State</th>\n",
       "      <th>Race</th>\n",
       "      <th>% of Population</th>\n",
       "      <th>% of Cases</th>\n",
       "      <th>% of Deaths</th>\n",
       "      <th>Poverty %</th>\n",
       "      <th>Cases/Pop</th>\n",
       "      <th>Cases-Over33%</th>\n",
       "      <th>Death/Pop</th>\n",
       "      <th>Deaths-Over33%</th>\n",
       "    </tr>\n",
       "  </thead>\n",
       "  <tbody>\n",
       "    <tr>\n",
       "      <th>0</th>\n",
       "      <td>Alabama</td>\n",
       "      <td>Black</td>\n",
       "      <td>27.0</td>\n",
       "      <td>35.0</td>\n",
       "      <td>40.0</td>\n",
       "      <td>28.4</td>\n",
       "      <td>1.296296</td>\n",
       "      <td>0</td>\n",
       "      <td>1.481481</td>\n",
       "      <td>1</td>\n",
       "    </tr>\n",
       "    <tr>\n",
       "      <th>1</th>\n",
       "      <td>Alabama</td>\n",
       "      <td>Asian</td>\n",
       "      <td>1.0</td>\n",
       "      <td>1.0</td>\n",
       "      <td>1.0</td>\n",
       "      <td>12.9</td>\n",
       "      <td>1.000000</td>\n",
       "      <td>0</td>\n",
       "      <td>1.000000</td>\n",
       "      <td>0</td>\n",
       "    </tr>\n",
       "    <tr>\n",
       "      <th>2</th>\n",
       "      <td>Alabama</td>\n",
       "      <td>White</td>\n",
       "      <td>68.0</td>\n",
       "      <td>51.0</td>\n",
       "      <td>57.0</td>\n",
       "      <td>12.8</td>\n",
       "      <td>0.750000</td>\n",
       "      <td>0</td>\n",
       "      <td>0.838235</td>\n",
       "      <td>0</td>\n",
       "    </tr>\n",
       "    <tr>\n",
       "      <th>3</th>\n",
       "      <td>Alabama</td>\n",
       "      <td>Hispanic</td>\n",
       "      <td>4.0</td>\n",
       "      <td>10.0</td>\n",
       "      <td>3.0</td>\n",
       "      <td>32.2</td>\n",
       "      <td>2.500000</td>\n",
       "      <td>1</td>\n",
       "      <td>0.750000</td>\n",
       "      <td>0</td>\n",
       "    </tr>\n",
       "    <tr>\n",
       "      <th>4</th>\n",
       "      <td>Alaska</td>\n",
       "      <td>Black</td>\n",
       "      <td>3.0</td>\n",
       "      <td>6.0</td>\n",
       "      <td>3.0</td>\n",
       "      <td>17.3</td>\n",
       "      <td>2.000000</td>\n",
       "      <td>1</td>\n",
       "      <td>1.000000</td>\n",
       "      <td>0</td>\n",
       "    </tr>\n",
       "  </tbody>\n",
       "</table>\n",
       "</div>"
      ],
      "text/plain": [
       "     State      Race  % of Population  % of Cases  % of Deaths  Poverty %  \\\n",
       "0  Alabama     Black             27.0        35.0         40.0       28.4   \n",
       "1  Alabama     Asian              1.0         1.0          1.0       12.9   \n",
       "2  Alabama     White             68.0        51.0         57.0       12.8   \n",
       "3  Alabama  Hispanic              4.0        10.0          3.0       32.2   \n",
       "4   Alaska     Black              3.0         6.0          3.0       17.3   \n",
       "\n",
       "   Cases/Pop  Cases-Over33%  Death/Pop  Deaths-Over33%  \n",
       "0   1.296296              0   1.481481               1  \n",
       "1   1.000000              0   1.000000               0  \n",
       "2   0.750000              0   0.838235               0  \n",
       "3   2.500000              1   0.750000               0  \n",
       "4   2.000000              1   1.000000               0  "
      ]
     },
     "execution_count": 50,
     "metadata": {},
     "output_type": "execute_result"
    }
   ],
   "source": [
    "#changing categorical columns to numeric\n",
    "data=data.replace({'Cases-Over33%':{\"Y\":1,'N':0},'Deaths-Over33%':{'Y':1,'N':0}})\n",
    "data.head()"
   ]
  },
  {
   "cell_type": "code",
   "execution_count": 105,
   "metadata": {},
   "outputs": [
    {
     "name": "stdout",
     "output_type": "stream",
     "text": [
      "0      1\n",
      "1      1\n",
      "2      0\n",
      "3      1\n",
      "4      1\n",
      "      ..\n",
      "194    0\n",
      "195    1\n",
      "196    1\n",
      "198    0\n",
      "199    1\n",
      "Name: Race, Length: 191, dtype: int64\n"
     ]
    }
   ],
   "source": [
    "#changing race to 0 (majority/white) or 1 (minority)\n",
    "data['Race']=data['Race'].replace({'Black':1,'White':0,'Asian':1,'Hispanic':1})\n",
    "print(data['Race'])"
   ]
  },
  {
   "cell_type": "code",
   "execution_count": 1,
   "metadata": {},
   "outputs": [
    {
     "ename": "NameError",
     "evalue": "name 'data' is not defined",
     "output_type": "error",
     "traceback": [
      "\u001b[0;31m---------------------------------------------------------------------------\u001b[0m",
      "\u001b[0;31mNameError\u001b[0m                                 Traceback (most recent call last)",
      "\u001b[0;32m<ipython-input-1-57a05b2ae6d0>\u001b[0m in \u001b[0;36m<module>\u001b[0;34m\u001b[0m\n\u001b[1;32m      5\u001b[0m \u001b[0;34m\u001b[0m\u001b[0m\n\u001b[1;32m      6\u001b[0m \u001b[0mfeatures_model\u001b[0m\u001b[0;34m=\u001b[0m\u001b[0;34m[\u001b[0m\u001b[0;34m'% of Cases'\u001b[0m\u001b[0;34m,\u001b[0m\u001b[0;34m'Cases/Pop'\u001b[0m\u001b[0;34m,\u001b[0m\u001b[0;34m'% of Deaths'\u001b[0m\u001b[0;34m,\u001b[0m\u001b[0;34m'Death/Pop'\u001b[0m\u001b[0;34m]\u001b[0m\u001b[0;34m\u001b[0m\u001b[0;34m\u001b[0m\u001b[0m\n\u001b[0;32m----> 7\u001b[0;31m \u001b[0mdata_model_x\u001b[0m\u001b[0;34m=\u001b[0m\u001b[0mdata\u001b[0m\u001b[0;34m[\u001b[0m\u001b[0mfeatures_model\u001b[0m\u001b[0;34m]\u001b[0m\u001b[0;34m\u001b[0m\u001b[0;34m\u001b[0m\u001b[0m\n\u001b[0m\u001b[1;32m      8\u001b[0m \u001b[0mdata_model_y\u001b[0m\u001b[0;34m=\u001b[0m\u001b[0mminority\u001b[0m\u001b[0;34m\u001b[0m\u001b[0;34m\u001b[0m\u001b[0m\n\u001b[1;32m      9\u001b[0m \u001b[0;34m\u001b[0m\u001b[0m\n",
      "\u001b[0;31mNameError\u001b[0m: name 'data' is not defined"
     ]
    }
   ],
   "source": [
    "#separate data into training and validation \n",
    "#import packages\n",
    "\n",
    "from sklearn.model_selection import train_test_split\n",
    "\n",
    "features_model=['% of Cases','Cases/Pop','% of Deaths','Death/Pop']\n",
    "data_model_x=data[features_model]\n",
    "data_model_y=minority\n",
    "\n",
    "#split data\n",
    "x_train,x_val,y_train,y_val=train_test_split(data_model_x,data_model_y,test_size=0.3)"
   ]
  },
  {
   "cell_type": "code",
   "execution_count": 107,
   "metadata": {},
   "outputs": [
    {
     "name": "stdout",
     "output_type": "stream",
     "text": [
      "No. of samples in training set:  133\n",
      "No. of samples in validation set:  58\n"
     ]
    }
   ],
   "source": [
    "#number of samples in sets\n",
    "print('No. of samples in training set: ',x_train.shape[0])\n",
    "print('No. of samples in validation set: ',x_val.shape[0])\n"
   ]
  },
  {
   "cell_type": "code",
   "execution_count": 108,
   "metadata": {},
   "outputs": [],
   "source": [
    "#importing packages\n",
    "\n",
    "from sklearn.linear_model import LogisticRegression\n",
    "from yellowbrick.classifier import ConfusionMatrix\n",
    "from yellowbrick.classifier import ClassificationReport"
   ]
  },
  {
   "cell_type": "code",
   "execution_count": 109,
   "metadata": {},
   "outputs": [],
   "source": [
    "#instantiate classification model\n",
    "model=LogisticRegression()"
   ]
  },
  {
   "cell_type": "code",
   "execution_count": 110,
   "metadata": {},
   "outputs": [
    {
     "name": "stderr",
     "output_type": "stream",
     "text": [
      "//anaconda3/lib/python3.7/site-packages/sklearn/base.py:213: FutureWarning: From version 0.24, get_params will raise an AttributeError if a parameter cannot be retrieved as an instance attribute. Previously it would return None.\n",
      "  FutureWarning)\n"
     ]
    },
    {
     "data": {
      "image/png": "[encoded data removed]",
      "text/plain": [
       "<Figure size 576x396 with 1 Axes>"
      ]
     },
     "metadata": {},
     "output_type": "display_data"
    },
    {
     "data": {
      "text/plain": [
       "<matplotlib.axes._subplots.AxesSubplot at 0x1043a92d0>"
      ]
     },
     "execution_count": 110,
     "metadata": {},
     "output_type": "execute_result"
    }
   ],
   "source": [
    "#for model testing race's impact on contracting covid\n",
    "#confusion matrix\n",
    "classes=[0,1]\n",
    "cm=ConfusionMatrix(model,classes=classes,percent=False)\n",
    "cm.fit(x_train,y_train)\n",
    "cm.score(x_val,y_val)\n",
    "cm.poof()"
   ]
  },
  {
   "cell_type": "code",
   "execution_count": 111,
   "metadata": {},
   "outputs": [
    {
     "name": "stderr",
     "output_type": "stream",
     "text": [
      "//anaconda3/lib/python3.7/site-packages/sklearn/base.py:213: FutureWarning: From version 0.24, get_params will raise an AttributeError if a parameter cannot be retrieved as an instance attribute. Previously it would return None.\n",
      "  FutureWarning)\n"
     ]
    },
    {
     "data": {
      "image/png": "[encoded data removed]",
      "text/plain": [
       "<Figure size 576x396 with 2 Axes>"
      ]
     },
     "metadata": {},
     "output_type": "display_data"
    },
    {
     "data": {
      "text/plain": [
       "<matplotlib.axes._subplots.AxesSubplot at 0x1043f5910>"
      ]
     },
     "execution_count": 111,
     "metadata": {},
     "output_type": "execute_result"
    }
   ],
   "source": [
    "#precision, recall, f1 score\n",
    "#instantiate visualizer\n",
    "visualizer=ClassificationReport(model,classes=classes)\n",
    "visualizer.fit(x_train,y_train)\n",
    "visualizer.score(x_val,y_val)\n",
    "visualizer.poof()"
   ]
  },
  {
   "cell_type": "code",
   "execution_count": null,
   "metadata": {},
   "outputs": [],
   "source": []
  }
 ],
 "metadata": {
  "kernelspec": {
   "display_name": "Python 3",
   "language": "python",
   "name": "python3"
  },
  "language_info": {
   "codemirror_mode": {
    "name": "ipython",
    "version": 3
   },
   "file_extension": ".py",
   "mimetype": "text/x-python",
   "name": "python",
   "nbconvert_exporter": "python",
   "pygments_lexer": "ipython3",
   "version": "3.7.6"
  }
 },
 "nbformat": 4,
 "nbformat_minor": 2
}
